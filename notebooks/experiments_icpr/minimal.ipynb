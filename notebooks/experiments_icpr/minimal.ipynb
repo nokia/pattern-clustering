{
 "cells": [
  {
   "cell_type": "markdown",
   "id": "181a2af0-6dd7-4369-92b5-21619b2262d6",
   "metadata": {},
   "source": [
    "<font size=20>A novel pattern-based edit distance for automatic log parsing</font>"
   ]
  },
  {
   "cell_type": "markdown",
   "id": "f8824150-7717-4bae-b55b-32e2fef97ef3",
   "metadata": {},
   "source": [
    "The purpose of this notebook is to allow users to reproduce the experiments described in the paper \"A novel pattern-based edit distance for automatic log parsing\" by M. Raynal, M.O. Buob and G. Quénot in the International Conference for Pattern Recognition 2022."
   ]
  },
  {
   "cell_type": "markdown",
   "id": "ea231fa0-f78f-4a01-b18a-59e7d5de75f4",
   "metadata": {},
   "source": [
    "# Installation\n",
    "\n",
    "The installation instructions are designed to be run on a Debian or Ubuntu OS."
   ]
  },
  {
   "cell_type": "markdown",
   "id": "545b1069-56d5-40e6-a133-43038cac1322",
   "metadata": {},
   "source": [
    "## Requirements"
   ]
  },
  {
   "cell_type": "markdown",
   "id": "bf0b1229-b605-4ca9-ad99-df3a0ede9c70",
   "metadata": {},
   "source": [
    "__Python__: the three algorithm tested in this notebook are implemented (at least partially) in python 3. This means a python interpreter is required. The version should not be older than 3.5.  \n",
    "Installation instructions can be found on the [official Python website](https://www.python.org/)"
   ]
  },
  {
   "cell_type": "markdown",
   "id": "37603532-f2a9-4ec0-9246-1b27296d918e",
   "metadata": {},
   "source": [
    "__Jupyter notebook or jupyter lab__: The experiments pipeline is implemented within this notebook for ease of use. Installation instructions can be found on the [official Jupyter website](https://jupyter.org/)."
   ]
  },
  {
   "cell_type": "markdown",
   "id": "5ab7cac8-be10-4694-8c70-8dab6a8b8553",
   "metadata": {},
   "source": [
    "__The following Python modules can be installed using pip:__\n",
    "* pytest: `[sudo] pip3 install [-U] pytest`\n",
    "* pytest-cov: `[sudo] pip3 install [-U] pytest-cov`\n",
    "* setuptools: `[sudo] pip3 install [-U] setuptools`\n",
    "* pybgl: `[sudo] pip3 install [-U] pytest-cov`"
   ]
  },
  {
   "cell_type": "markdown",
   "id": "2fa6f686-d4b6-496f-9afe-42d87d4d055c",
   "metadata": {},
   "source": [
    "__A C++ compiler and the Boost.python library__:\n",
    "* g++: `sudo apt install g++`\n",
    "* Boost.Python: `sudo apt install libboost-python-dev`"
   ]
  },
  {
   "cell_type": "markdown",
   "id": "764c3262-4289-4989-9639-f5733995838f",
   "metadata": {},
   "source": [
    "__git__: `sudo apt install git`"
   ]
  },
  {
   "cell_type": "markdown",
   "id": "9bce1394-2015-46f8-ada3-090a9a84fea7",
   "metadata": {},
   "source": [
    "## Log clustering repositories\n",
    "\n",
    "One repository needs to be cloned and installed for each algorithm."
   ]
  },
  {
   "cell_type": "markdown",
   "id": "cfa84cb4-bbf3-44e4-bdd9-509749d67849",
   "metadata": {},
   "source": [
    "__Pattern-based clustering__:   \n",
    "`cd ~/git/`  \n",
    "`git clone git@github.com:nokia/pattern-clustering.git`  \n",
    "`cd pattern-clustering`  \n",
    "`[sudo] python setup.py install [--user]`  "
   ]
  },
  {
   "cell_type": "markdown",
   "id": "90431252-9080-4da4-9e31-d73eee24af74",
   "metadata": {},
   "source": [
    "__Drain3__:\n",
    "`cd ~/git/`  \n",
    "`git clone git@github.com:raynalm/Drain3.git`  \n",
    "`cd Drain3`  \n",
    "`[sudo] python setup.py install [--user]`  "
   ]
  },
  {
   "cell_type": "markdown",
   "id": "f44afadb-2b58-437c-9d6c-8912c75d69cc",
   "metadata": {},
   "source": [
    "__LogMine__:\n",
    "`cd ~/git/`  \n",
    "`git clone git@github.com:raynalm/logmine.git`  \n",
    "`cd logmine`  \n",
    "`[sudo] python setup.py install [--user]`  "
   ]
  },
  {
   "cell_type": "code",
   "execution_count": 1,
   "id": "7349bb34-7cf6-4d8c-a043-51e14a4899a6",
   "metadata": {},
   "outputs": [],
   "source": [
    "import sys  \n",
    "sys.path.insert(0, '.')"
   ]
  },
  {
   "cell_type": "markdown",
   "id": "ae128a3a-8da7-4650-b17a-3e1a82e7f586",
   "metadata": {},
   "source": [
    "## Loading datasets and hyperparameters"
   ]
  },
  {
   "cell_type": "markdown",
   "id": "b1430502-b9e7-4dc4-a639-90cbeb7f066e",
   "metadata": {},
   "source": [
    "### Dataset"
   ]
  },
  {
   "cell_type": "code",
   "execution_count": 2,
   "id": "97464cf6-3640-447a-b1c9-8e93ab67d8f8",
   "metadata": {},
   "outputs": [],
   "source": [
    "from experiments_pattern_clustering import load_data\n",
    "\n",
    "\n",
    "ROOT_LOG_PATH = \"../logs/\"\n",
    "\n",
    "templates_dict, logs_dict = load_data(ROOT_LOG_PATH)\n",
    "templates_dict_modified, logs_dict_modified = load_data(ROOT_LOG_PATH, load_modified=True)"
   ]
  },
  {
   "cell_type": "markdown",
   "id": "957ee22a-cbe9-4e9d-8c18-e1c8ebc2ab27",
   "metadata": {},
   "source": [
    "### Hyperparameters"
   ]
  },
  {
   "cell_type": "code",
   "execution_count": 3,
   "id": "fc487b73-15c6-4a84-aad4-2bf5bdd28a4e",
   "metadata": {},
   "outputs": [],
   "source": [
    "from experiments_pattern_clustering import load_pattern_collection\n",
    "\n",
    "FUNDAMENTAL_COLLECTION = load_pattern_collection(\"../parameters/fundamental_collection.json\")\n",
    "BASIC_COLLECTION = load_pattern_collection(\"../parameters/basic_collection.json\")\n",
    "SPECIFIC_COLLECTION = load_pattern_collection(\"../parameters/specific_collection.json\")"
   ]
  },
  {
   "cell_type": "markdown",
   "id": "db48af74-b926-4248-9866-886e44a5c572",
   "metadata": {},
   "source": [
    "## Experiments"
   ]
  },
  {
   "cell_type": "code",
   "execution_count": 4,
   "id": "dc32e8a4-3695-454a-84d9-adb4312be16a",
   "metadata": {},
   "outputs": [],
   "source": [
    "from experiments_pattern_clustering import METRICS, TIME, PA, ARI, NUM_CLUSTERS"
   ]
  },
  {
   "cell_type": "markdown",
   "id": "7cf19f36-557b-4a97-a3c8-7a5225f71e3d",
   "metadata": {},
   "source": [
    "### LogMine "
   ]
  },
  {
   "cell_type": "code",
   "execution_count": 5,
   "id": "c36e58e7-3298-433a-a916-b94a1e1942d6",
   "metadata": {},
   "outputs": [
    {
     "name": "stdout",
     "output_type": "stream",
     "text": [
      "{'parsing accuracy': 0.2905, 'adjusted rand index': 0.9628006226024521, 'time': 0.43281006813049316, 'number of clusters': 4}\n"
     ]
    }
   ],
   "source": [
    "from experiments_pattern_clustering import evaluate_logmine_clustering, to_logmine_params\n",
    "\n",
    "LOGMINE_REPO_PATH = \"../../logmine\"\n",
    "print(\n",
    "    evaluate_logmine_clustering(\n",
    "        LOGMINE_REPO_PATH,\n",
    "        \"../logs/Apache/Apache_2k.log\",\n",
    "        templates_dict[\"Apache\"],\n",
    "        METRICS,\n",
    "        max_dist=0.06,\n",
    "        logmine_regexps=to_logmine_params(BASIC_COLLECTION)\n",
    "    )\n",
    ")"
   ]
  },
  {
   "cell_type": "markdown",
   "id": "1a9602da-4ad2-4f0c-8411-4a2055ad7a58",
   "metadata": {},
   "source": [
    "### Drain"
   ]
  },
  {
   "cell_type": "code",
   "execution_count": 6,
   "id": "7d039029-859e-42cd-bd48-8c2cfc1c3a2f",
   "metadata": {},
   "outputs": [
    {
     "name": "stdout",
     "output_type": "stream",
     "text": [
      "{'parsing accuracy': 1.0, 'adjusted rand index': 1.0, 'time': 0.5992441177368164, 'number of clusters': 6}\n"
     ]
    }
   ],
   "source": [
    "from experiments_pattern_clustering import evaluate_drain_clustering\n",
    "\n",
    "\n",
    "print(\n",
    "    evaluate_drain_clustering(\n",
    "        \"../logs/Apache/Apache_2k.log\",\n",
    "        templates_dict[\"Apache\"],\n",
    "        METRICS,\n",
    "        BASIC_COLLECTION,\n",
    "        show_clusters=False,\n",
    "        sim_th=0.03,\n",
    "        depth=3\n",
    "    )\n",
    ")\n"
   ]
  },
  {
   "cell_type": "markdown",
   "id": "abcc9a51-850c-4b84-88d7-aa3eb8771cd9",
   "metadata": {},
   "source": [
    "### Pattern clustering"
   ]
  },
  {
   "cell_type": "code",
   "execution_count": 8,
   "id": "1367e1c7-3799-45ac-8379-944b4ddb0bef",
   "metadata": {},
   "outputs": [
    {
     "name": "stdout",
     "output_type": "stream",
     "text": [
      "{'parsing accuracy': 0.3065, 'adjusted rand index': 0.5517378285183966, 'time': 5.392209053039551, 'number of clusters': 4}\n"
     ]
    }
   ],
   "source": [
    "import string\n",
    "from experiments_pattern_clustering import evaluate_fast_pattern_clustering, make_map_name_dfa_densities\n",
    "from siva.multi_grep import MultiGrepFonctorLargest\n",
    "\n",
    "PC_BASIC_COLLECTION = {**FUNDAMENTAL_COLLECTION, **BASIC_COLLECTION}\n",
    "ALPHABET = set(string.printable)\n",
    "MAP_NAME_DFA, MAP_NAME_DENSITY = make_map_name_dfa_densities(PC_BASIC_COLLECTION, ALPHABET)\n",
    "\n",
    "\n",
    "print(\n",
    "    evaluate_fast_pattern_clustering(\n",
    "        \"../logs/Apache/Apache_2k.log\",\n",
    "        templates_dict[\"Apache\"],\n",
    "        METRICS,\n",
    "        MAP_NAME_DFA,\n",
    "        MultiGrepFonctorLargest,\n",
    "        MAP_NAME_DENSITY,\n",
    "        0.15,\n",
    "        show_clusters=False,\n",
    "    )\n",
    ")"
   ]
  },
  {
   "cell_type": "code",
   "execution_count": null,
   "id": "6531d9d8-5ea0-47f3-870e-8640d4573b82",
   "metadata": {},
   "outputs": [],
   "source": []
  }
 ],
 "metadata": {
  "kernelspec": {
   "display_name": "Python 3 (ipykernel)",
   "language": "python",
   "name": "python3"
  },
  "language_info": {
   "codemirror_mode": {
    "name": "ipython",
    "version": 3
   },
   "file_extension": ".py",
   "mimetype": "text/x-python",
   "name": "python",
   "nbconvert_exporter": "python",
   "pygments_lexer": "ipython3",
   "version": "3.9.12"
  }
 },
 "nbformat": 4,
 "nbformat_minor": 5
}
