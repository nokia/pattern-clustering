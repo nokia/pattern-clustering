{
 "cells": [
  {
   "cell_type": "markdown",
   "id": "181a2af0-6dd7-4369-92b5-21619b2262d6",
   "metadata": {},
   "source": [
    "<font size=20>A novel pattern-based edit distance for automatic log parsing</font>"
   ]
  },
  {
   "cell_type": "markdown",
   "id": "f8824150-7717-4bae-b55b-32e2fef97ef3",
   "metadata": {},
   "source": [
    "The purpose of this notebook is to allow users to reproduce the experiments described in the paper \"A novel pattern-based edit distance for automatic log parsing\" by M. Raynal, M.O. Buob and G. Quénot in the International Conference for Pattern Recognition 2022."
   ]
  },
  {
   "cell_type": "markdown",
   "id": "ea231fa0-f78f-4a01-b18a-59e7d5de75f4",
   "metadata": {},
   "source": [
    "# Installation"
   ]
  },
  {
   "cell_type": "markdown",
   "id": "bf0b1229-b605-4ca9-ad99-df3a0ede9c70",
   "metadata": {},
   "source": [
    "To install the `pattern_clustering` module, please follow [these steps](https://github.com/nokia/pattern-clustering/wiki/Experiments-with-Drain-and-Logmine)."
   ]
  },
  {
   "cell_type": "markdown",
   "id": "ae128a3a-8da7-4650-b17a-3e1a82e7f586",
   "metadata": {},
   "source": [
    "# Loading datasets and hyperparameters"
   ]
  },
  {
   "cell_type": "markdown",
   "id": "b1430502-b9e7-4dc4-a639-90cbeb7f066e",
   "metadata": {},
   "source": [
    "## Dataset"
   ]
  },
  {
   "cell_type": "code",
   "execution_count": 2,
   "id": "97464cf6-3640-447a-b1c9-8e93ab67d8f8",
   "metadata": {},
   "outputs": [],
   "source": [
    "import os\n",
    "from utils import load_data\n",
    "\n",
    "ROOT_PATH = \"../../\"\n",
    "ROOT_LOG_PATH = os.path.join(ROOT_PATH, \"logs/\")\n",
    "\n",
    "(templates_dict, logs_dict) = load_data(ROOT_LOG_PATH)\n",
    "assert templates_dict\n",
    "assert logs_dict\n",
    "\n",
    "(templates_dict_modified, logs_dict_modified) = load_data(str(ROOT_LOG_PATH), load_modified=True)\n",
    "assert templates_dict_modified\n",
    "assert logs_dict_modified"
   ]
  },
  {
   "cell_type": "markdown",
   "id": "957ee22a-cbe9-4e9d-8c18-e1c8ebc2ab27",
   "metadata": {},
   "source": [
    "## Hyperparameters"
   ]
  },
  {
   "cell_type": "code",
   "execution_count": 6,
   "id": "fc487b73-15c6-4a84-aad4-2bf5bdd28a4e",
   "metadata": {},
   "outputs": [],
   "source": [
    "import pathlib\n",
    "from utils import load_pattern_collection\n",
    "\n",
    "PARAMETERS_PATH = pathlib.Path(ROOT_PATH) / \"parameters/\"\n",
    "\n",
    "FUNDAMENTAL_COLLECTION = load_pattern_collection(PARAMETERS_PATH / \"fundamental_collection.json\")\n",
    "assert FUNDAMENTAL_COLLECTION\n",
    "BASIC_COLLECTION = load_pattern_collection(PARAMETERS_PATH / \"basic_collection.json\")\n",
    "assert BASIC_COLLECTION\n",
    "SPECIFIC_COLLECTION = load_pattern_collection(PARAMETERS_PATH / \"specific_collection.json\")\n",
    "assert SPECIFIC_COLLECTION"
   ]
  },
  {
   "cell_type": "markdown",
   "id": "db48af74-b926-4248-9866-886e44a5c572",
   "metadata": {},
   "source": [
    "## Experiments"
   ]
  },
  {
   "cell_type": "markdown",
   "id": "7cf19f36-557b-4a97-a3c8-7a5225f71e3d",
   "metadata": {},
   "source": [
    "### LogMine "
   ]
  },
  {
   "cell_type": "code",
   "execution_count": 7,
   "id": "c36e58e7-3298-433a-a916-b94a1e1942d6",
   "metadata": {},
   "outputs": [
    {
     "name": "stdout",
     "output_type": "stream",
     "text": [
      "{'parsing accuracy': 0.2905, 'adjusted rand index': 0.9628006226024521, 'time': 0.5753438472747803, 'number of clusters': 4}\n"
     ]
    }
   ],
   "source": [
    "from utils import METRICS, evaluate_logmine_clustering, to_logmine_params\n",
    "\n",
    "LOGMINE_REPO_PATH = os.path.join(ROOT_PATH, \"..\", \"logmine\")\n",
    "APACHE_LOG_PATH = os.path.join(ROOT_LOG_PATH, \"Apache/Apache_2k.log\")\n",
    "\n",
    "print(\n",
    "    evaluate_logmine_clustering(\n",
    "        LOGMINE_REPO_PATH,\n",
    "        APACHE_LOG_PATH,\n",
    "        templates_dict[\"Apache\"],\n",
    "        METRICS,\n",
    "        max_dist=0.06,\n",
    "        logmine_regexps=to_logmine_params(BASIC_COLLECTION)\n",
    "    )\n",
    ")"
   ]
  },
  {
   "cell_type": "markdown",
   "id": "1a9602da-4ad2-4f0c-8411-4a2055ad7a58",
   "metadata": {},
   "source": [
    "### Drain"
   ]
  },
  {
   "cell_type": "code",
   "execution_count": 8,
   "id": "7d039029-859e-42cd-bd48-8c2cfc1c3a2f",
   "metadata": {},
   "outputs": [
    {
     "name": "stdout",
     "output_type": "stream",
     "text": [
      "{'parsing accuracy': 1.0, 'adjusted rand index': 1.0, 'time': 0.5610649585723877, 'number of clusters': 6}\n"
     ]
    }
   ],
   "source": [
    "from utils import METRICS, evaluate_drain_clustering\n",
    "\n",
    "print(\n",
    "    evaluate_drain_clustering(\n",
    "        APACHE_LOG_PATH,\n",
    "        templates_dict[\"Apache\"],\n",
    "        METRICS,\n",
    "        BASIC_COLLECTION,\n",
    "        show_clusters=False,\n",
    "        sim_th=0.03,\n",
    "        depth=3\n",
    "    )\n",
    ")"
   ]
  },
  {
   "cell_type": "markdown",
   "id": "abcc9a51-850c-4b84-88d7-aa3eb8771cd9",
   "metadata": {},
   "source": [
    "### Pattern clustering"
   ]
  },
  {
   "cell_type": "code",
   "execution_count": 9,
   "id": "1367e1c7-3799-45ac-8379-944b4ddb0bef",
   "metadata": {},
   "outputs": [
    {
     "name": "stdout",
     "output_type": "stream",
     "text": [
      "{'parsing accuracy': 0.3065, 'adjusted rand index': 0.5517378285183966, 'time': 9.207051515579224, 'number of clusters': 4}\n"
     ]
    }
   ],
   "source": [
    "import string\n",
    "from utils import evaluate_fast_pattern_clustering, make_map_name_dfa_densities\n",
    "from pattern_clustering.multi_grep import MultiGrepFunctorLargest\n",
    "\n",
    "PC_BASIC_COLLECTION = {**FUNDAMENTAL_COLLECTION, **BASIC_COLLECTION}\n",
    "ALPHABET = set(string.printable)\n",
    "MAP_NAME_DFA, MAP_NAME_DENSITY = make_map_name_dfa_densities(PC_BASIC_COLLECTION, ALPHABET)\n",
    "\n",
    "print(\n",
    "    evaluate_fast_pattern_clustering(\n",
    "        APACHE_LOG_PATH,\n",
    "        templates_dict[\"Apache\"],\n",
    "        METRICS,\n",
    "        MAP_NAME_DFA,\n",
    "        MultiGrepFunctorLargest,\n",
    "        MAP_NAME_DENSITY,\n",
    "        0.15,\n",
    "        show_clusters=False,\n",
    "    )\n",
    ")"
   ]
  }
 ],
 "metadata": {
  "kernelspec": {
   "display_name": "Python 3 (ipykernel)",
   "language": "python",
   "name": "python3"
  },
  "language_info": {
   "codemirror_mode": {
    "name": "ipython",
    "version": 3
   },
   "file_extension": ".py",
   "mimetype": "text/x-python",
   "name": "python",
   "nbconvert_exporter": "python",
   "pygments_lexer": "ipython3",
   "version": "3.10.4"
  }
 },
 "nbformat": 4,
 "nbformat_minor": 5
}
