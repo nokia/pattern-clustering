{
 "cells": [
  {
   "cell_type": "markdown",
   "id": "181a2af0-6dd7-4369-92b5-21619b2262d6",
   "metadata": {},
   "source": [
    "<font size=20>A novel pattern-based edit distance for automatic log parsing</font>"
   ]
  },
  {
   "cell_type": "markdown",
   "id": "f8824150-7717-4bae-b55b-32e2fef97ef3",
   "metadata": {},
   "source": [
    "This notebooks shows how to run the three log clustering algorithms considered in [1] namely:\n",
    "* Logmine\n",
    "* Drain\n",
    "* Pattern clustering\n",
    "\n",
    "[1] _\"A novel pattern-based edit distance for automatic log parsing\"_, by M. Raynal, M.O. Buob and G. Quénot in the International Conference for Pattern Recognition 2022,"
   ]
  },
  {
   "cell_type": "markdown",
   "id": "ea231fa0-f78f-4a01-b18a-59e7d5de75f4",
   "metadata": {},
   "source": [
    "# Pre-requisites"
   ]
  },
  {
   "cell_type": "markdown",
   "id": "bf0b1229-b605-4ca9-ad99-df3a0ede9c70",
   "metadata": {},
   "source": [
    "Please follow [the installation steps](https://github.com/nokia/pattern-clustering/wiki/Experiments-with-Drain-and-Logmine)."
   ]
  },
  {
   "cell_type": "markdown",
   "id": "ae128a3a-8da7-4650-b17a-3e1a82e7f586",
   "metadata": {},
   "source": [
    "# Loading datasets and hyperparameters"
   ]
  },
  {
   "cell_type": "markdown",
   "id": "b1430502-b9e7-4dc4-a639-90cbeb7f066e",
   "metadata": {},
   "source": [
    "## Dataset"
   ]
  },
  {
   "cell_type": "markdown",
   "id": "6ea25351-0e12-4727-adc5-68acc26292e2",
   "metadata": {},
   "source": [
    "Load the log files and their corresponding (modified) templates. Compared to the standard templates, the modified templates are more consistent."
   ]
  },
  {
   "cell_type": "code",
   "execution_count": null,
   "id": "97464cf6-3640-447a-b1c9-8e93ab67d8f8",
   "metadata": {},
   "outputs": [],
   "source": [
    "from pathlib import Path\n",
    "from utils import load_data\n",
    "\n",
    "LOG_DIR = Path(\"logs\")\n",
    "\n",
    "# Pass load_modified=False to load the standard templates\n",
    "(map_name_templates, map_name_lines) = load_data(LOG_DIR, load_modified=True)  \n",
    "\n",
    "assert map_name_templates[\"Apache\"]  # The templates related to Apache\n",
    "assert map_name_lines[\"Apache\"]      # The log lines related to Apache"
   ]
  },
  {
   "cell_type": "markdown",
   "id": "957ee22a-cbe9-4e9d-8c18-e1c8ebc2ab27",
   "metadata": {},
   "source": [
    "## Pattern collection"
   ]
  },
  {
   "cell_type": "markdown",
   "id": "d323d6af-fbf2-4921-b02e-7f263ddee307",
   "metadata": {},
   "source": [
    "Load the pattern collection, used to represent each input log line at the pattern scale."
   ]
  },
  {
   "cell_type": "code",
   "execution_count": null,
   "id": "fc487b73-15c6-4a84-aad4-2bf5bdd28a4e",
   "metadata": {},
   "outputs": [],
   "source": [
    "from pathlib import Path\n",
    "from utils import load_pattern_collection\n",
    "\n",
    "PARAMETERS_DIR = Path(\"parameters\")\n",
    "\n",
    "BASIC_COLLECTION = load_pattern_collection(PARAMETERS_DIR / \"basic_collection.json\")\n",
    "assert BASIC_COLLECTION"
   ]
  },
  {
   "cell_type": "markdown",
   "id": "db48af74-b926-4248-9866-886e44a5c572",
   "metadata": {},
   "source": [
    "## Experiments\n",
    "\n",
    "For each experiment reported below, you pass `show_clusters=True` to display in which cluster falls each line of the input log file."
   ]
  },
  {
   "cell_type": "markdown",
   "id": "7cf19f36-557b-4a97-a3c8-7a5225f71e3d",
   "metadata": {},
   "source": [
    "### LogMine "
   ]
  },
  {
   "cell_type": "markdown",
   "id": "6bd514b3-1d8a-4a9a-b024-958ef33141b4",
   "metadata": {},
   "source": [
    "Run the [modified algorithm](https://github.com/raynalm/logmine), as the [standard implementation](https://github.com/trungdq88/logmine) does not return the cluster assigned to each input log line."
   ]
  },
  {
   "cell_type": "code",
   "execution_count": null,
   "id": "c36e58e7-3298-433a-a916-b94a1e1942d6",
   "metadata": {},
   "outputs": [],
   "source": [
    "from pathlib import Path\n",
    "from utils import METRICS, evaluate_logmine_clustering, to_logmine_params, canonic_log_name\n",
    "\n",
    "LOGMINE_REPO_DIR = Path(\"../../../logmine\")\n",
    "APACHE_LOG_PATH = LOG_DIR / \"Apache/Apache_2k.log\"\n",
    "APACHE_LOG_NAME = canonic_log_name(APACHE_LOG_PATH)\n",
    "\n",
    "print(\n",
    "    evaluate_logmine_clustering(\n",
    "        LOGMINE_REPO_DIR,\n",
    "        APACHE_LOG_PATH,\n",
    "        map_name_templates[APACHE_LOG_NAME],\n",
    "        METRICS,\n",
    "        max_dist=0.06,\n",
    "        logmine_regexps=to_logmine_params(BASIC_COLLECTION),\n",
    "        show_clusters=False\n",
    "    )\n",
    ")"
   ]
  },
  {
   "cell_type": "markdown",
   "id": "1a9602da-4ad2-4f0c-8411-4a2055ad7a58",
   "metadata": {},
   "source": [
    "### Drain"
   ]
  },
  {
   "cell_type": "markdown",
   "id": "0688a88d-925b-44b8-ac4e-b3ff9579926a",
   "metadata": {},
   "source": [
    "Run the [modified algorithm](https://github.com/raynalm/Drain3), as the [standard implementation](https://github.com/IBM/Drain3)  does not return the cluster assigned to each input log line."
   ]
  },
  {
   "cell_type": "code",
   "execution_count": null,
   "id": "7d039029-859e-42cd-bd48-8c2cfc1c3a2f",
   "metadata": {},
   "outputs": [],
   "source": [
    "from utils import METRICS, evaluate_drain_clustering\n",
    "\n",
    "print(\n",
    "    evaluate_drain_clustering(\n",
    "        APACHE_LOG_PATH,\n",
    "        map_name_templates[APACHE_LOG_NAME],\n",
    "        METRICS,\n",
    "        BASIC_COLLECTION,\n",
    "        sim_th=0.03,\n",
    "        depth=3,\n",
    "        show_clusters=False\n",
    "    )\n",
    ")"
   ]
  },
  {
   "cell_type": "markdown",
   "id": "abcc9a51-850c-4b84-88d7-aa3eb8771cd9",
   "metadata": {},
   "source": [
    "### Pattern clustering"
   ]
  },
  {
   "cell_type": "markdown",
   "id": "fd86cea2-b952-471c-aa90-add08a30d54c",
   "metadata": {},
   "source": [
    "Run the [`pattern_clustering` algorithm](https://github.com/nokia/pattern-clustering/)."
   ]
  },
  {
   "cell_type": "code",
   "execution_count": null,
   "id": "1367e1c7-3799-45ac-8379-944b4ddb0bef",
   "metadata": {},
   "outputs": [],
   "source": [
    "import string\n",
    "from utils import evaluate_pattern_clustering, make_map_name_dfa_densities\n",
    "from pattern_clustering.multi_grep import MultiGrepFunctorLargest\n",
    "\n",
    "PC_BASIC_COLLECTION = {**FUNDAMENTAL_COLLECTION, **BASIC_COLLECTION}\n",
    "ALPHABET = set(string.printable)\n",
    "(MAP_NAME_DFA, MAP_NAME_DENSITY) = make_map_name_dfa_densities(PC_BASIC_COLLECTION, ALPHABET)\n",
    "\n",
    "print(\n",
    "    evaluate_pattern_clustering(\n",
    "        APACHE_LOG_PATH,\n",
    "        map_name_templates[\"Apache\"],\n",
    "        METRICS,\n",
    "        MAP_NAME_DFA,\n",
    "        MAP_NAME_DENSITY,\n",
    "        0.15,\n",
    "        show_clusters=False\n",
    "    )\n",
    ")"
   ]
  },
  {
   "cell_type": "code",
   "execution_count": null,
   "id": "f0259c55-a1ed-4c93-9ec4-9d9e7c1bdb2c",
   "metadata": {},
   "outputs": [],
   "source": []
  }
 ],
 "metadata": {
  "kernelspec": {
   "display_name": "Python 3 (ipykernel)",
   "language": "python",
   "name": "python3"
  },
  "language_info": {
   "codemirror_mode": {
    "name": "ipython",
    "version": 3
   },
   "file_extension": ".py",
   "mimetype": "text/x-python",
   "name": "python",
   "nbconvert_exporter": "python",
   "pygments_lexer": "ipython3",
   "version": "3.10.5"
  }
 },
 "nbformat": 4,
 "nbformat_minor": 5
}
