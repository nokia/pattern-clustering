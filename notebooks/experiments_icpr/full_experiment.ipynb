{
 "cells": [
  {
   "cell_type": "markdown",
   "id": "57132864-25a1-40f7-a98a-1313ed08bde7",
   "metadata": {},
   "source": [
    "<font size=20>A novel pattern-based edit distance for automatic log parsing</font>"
   ]
  },
  {
   "cell_type": "markdown",
   "id": "2ce4a82c-bf1d-42d3-a07f-b960119be216",
   "metadata": {},
   "source": [
    "The purpose of this notebook is to allow users to reproduce the experiments described in the paper \"A novel pattern-based edit distance for automatic log parsing\" by M. Raynal, M.O. Buob and G. Quénot in the International Conference for Pattern Recognition 2022."
   ]
  },
  {
   "cell_type": "markdown",
   "id": "184fc385-7326-43f0-83f2-5eb6351907bc",
   "metadata": {},
   "source": [
    "# Installation"
   ]
  },
  {
   "cell_type": "markdown",
   "id": "1ad7b1e9-6aed-4170-89a6-90e072ed8294",
   "metadata": {},
   "source": [
    "To install the `pattern_clustering` module, please follow [these steps](https://github.com/nokia/pattern-clustering/wiki/Experiments-with-Drain-and-Logmine)."
   ]
  },
  {
   "cell_type": "markdown",
   "id": "dfb87ccf-6125-4695-9b94-9c9895c7584e",
   "metadata": {},
   "source": [
    "# Loading datasets and hyperparameters"
   ]
  },
  {
   "cell_type": "markdown",
   "id": "f10ed6ed-f5d7-4d99-b68c-51e702eff15e",
   "metadata": {},
   "source": [
    "## Dataset"
   ]
  },
  {
   "cell_type": "code",
   "execution_count": null,
   "id": "fc62defa-52d0-4e1b-a35d-a0fb1f52faf3",
   "metadata": {},
   "outputs": [],
   "source": [
    "import pathlib\n",
    "import os\n",
    "from utils import load_data\n",
    "\n",
    "ROOT_PATH = \".\"\n",
    "ROOT_LOG_PATH = pathlib.Path(ROOT_PATH) / \"logs\"\n",
    "\n",
    "(templates_dict, logs_dict) = load_data(ROOT_LOG_PATH)\n",
    "assert templates_dict\n",
    "assert logs_dict\n",
    "\n",
    "(templates_dict_modified, logs_dict_modified) = load_data(ROOT_LOG_PATH, load_modified=True)\n",
    "assert templates_dict_modified\n",
    "assert logs_dict_modified"
   ]
  },
  {
   "cell_type": "markdown",
   "id": "8d491479-1eca-444a-8e9c-013a540e69ff",
   "metadata": {},
   "source": [
    "## Hyperparameters"
   ]
  },
  {
   "cell_type": "code",
   "execution_count": null,
   "id": "fc487b73-15c6-4a84-aad4-2bf5bdd28a4e",
   "metadata": {},
   "outputs": [],
   "source": [
    "import pathlib\n",
    "from utils import load_pattern_collection\n",
    "\n",
    "PARAMETERS_PATH = pathlib.Path(ROOT_PATH) / \"parameters/\"\n",
    "\n",
    "FUNDAMENTAL_COLLECTION = load_pattern_collection(PARAMETERS_PATH / \"fundamental_collection.json\")\n",
    "assert FUNDAMENTAL_COLLECTION\n",
    "BASIC_COLLECTION = load_pattern_collection(PARAMETERS_PATH / \"basic_collection.json\")\n",
    "assert BASIC_COLLECTION\n",
    "SPECIFIC_COLLECTION = load_pattern_collection(PARAMETERS_PATH / \"specific_collection.json\")\n",
    "assert SPECIFIC_COLLECTION"
   ]
  },
  {
   "cell_type": "code",
   "execution_count": null,
   "id": "bc9268de-78dd-4a64-80f8-9f6e5a35b8c1",
   "metadata": {},
   "outputs": [],
   "source": [
    "# Threshold values for the pattern clustering and logmine algorithms\n",
    "# MAX_DIST_VALUES = [0.001, 0.003, 0.005, 0.007, 0.01, 0.015, 0.02, 0.025, 0.03, 0.04, 0.05, 0.06, 0.07, 0.08, 0.09, 0.1, 0.12, 0.14, 0.16, 0.18, 0.2, 0.22, 0.24, 0.26, 0.28, 0.3, 0.32, 0.36, 0.4, 0.5, 0.6, 0.7, 0.8, 0.9, 0.99]\n",
    "MAX_DIST_VALUES = [0.1]\n",
    "# Parameters for the drain algorithm\n",
    "DRAIN_SIM_TH_LIST = [0.01, 0.05, 0.1, 0.2, 0.3, 0.4, 0.5, 0.6, 0.7, 0.8, 0.9, 0.99]\n",
    "DRAIN_DEPTH_LIST = [3, 4, 5, 6]\n",
    "DRAIN_PARAMS_LIST = [\n",
    "    (sim_th, depth) for sim_th in DRAIN_SIM_TH_LIST for depth in DRAIN_DEPTH_LIST\n",
    "]\n",
    "\n",
    "LOGMINE_REPO_PATH = os.path.join(ROOT_PATH, \"../../..\", \"logmine\")"
   ]
  },
  {
   "cell_type": "markdown",
   "id": "ce783fb9-86f1-4528-8389-bfefb5696370",
   "metadata": {},
   "source": [
    "# Experiments"
   ]
  },
  {
   "cell_type": "markdown",
   "id": "6cf7e1e3-4057-49fe-9ade-c5b5987a7fc9",
   "metadata": {},
   "source": [
    "## Minimal collection\n",
    "\n",
    "In this setting, each algorithm is given the same pattern collection as parameter for all logs."
   ]
  },
  {
   "cell_type": "code",
   "execution_count": null,
   "id": "0351733c-b094-4f9b-abef-c1d540620d14",
   "metadata": {
    "tags": []
   },
   "outputs": [],
   "source": [
    "from utils import eval_on_all_logs_and_save, METRICS\n",
    "\n",
    "\n",
    "eval_on_all_logs_and_save(\n",
    "    root_log_path=ROOT_LOG_PATH,\n",
    "    output_path=\"results_minimal_collection.json\",\n",
    "    metrics=METRICS,\n",
    "    templates_dict=templates_dict_modified,\n",
    "    fundamental_collection=FUNDAMENTAL_COLLECTION,\n",
    "    basic_collection=BASIC_COLLECTION,\n",
    "    specific_collection=None,\n",
    "    max_dist_pc_list=MAX_DIST_VALUES,\n",
    "    max_dist_logmine_list=MAX_DIST_VALUES,\n",
    "    drain_params_list=DRAIN_PARAMS_LIST,\n",
    "    logmine_repo_path=LOGMINE_REPO_PATH,\n",
    ")"
   ]
  },
  {
   "cell_type": "markdown",
   "id": "a70eea93-404a-4ae7-b4bd-ef945886cee2",
   "metadata": {},
   "source": [
    "## Specific collection"
   ]
  },
  {
   "cell_type": "code",
   "execution_count": null,
   "id": "08420da8-e30f-404b-a793-08661898c900",
   "metadata": {},
   "outputs": [],
   "source": [
    "from utils import eval_on_all_logs_and_save, METRICS\n",
    "\n",
    "\n",
    "eval_on_all_logs_and_save(\n",
    "    root_log_path=ROOT_LOG_PATH,\n",
    "    output_path=\"results_minimal_collection.json\",\n",
    "    metrics=METRICS,\n",
    "    templates_dict=templates_dict_modified,\n",
    "    fundamental_collection=FUNDAMENTAL_COLLECTION,\n",
    "    basic_collection=BASIC_COLLECTION,\n",
    "    specific_collection=SPECIFIC_COLLECTION,\n",
    "    max_dist_pc_list=MAX_DIST_VALUES,\n",
    "    max_dist_logmine_list=MAX_DIST_VALUES,\n",
    "    drain_params_list=DRAIN_PARAMS_LIST,\n",
    "    logmine_repo_path=LOGMINE_REPO_PATH,\n",
    ")"
   ]
  }
 ],
 "metadata": {
  "kernelspec": {
   "display_name": "Python 3 (ipykernel)",
   "language": "python",
   "name": "python3"
  },
  "language_info": {
   "codemirror_mode": {
    "name": "ipython",
    "version": 3
   },
   "file_extension": ".py",
   "mimetype": "text/x-python",
   "name": "python",
   "nbconvert_exporter": "python",
   "pygments_lexer": "ipython3",
   "version": "3.8.10"
  }
 },
 "nbformat": 4,
 "nbformat_minor": 5
}
