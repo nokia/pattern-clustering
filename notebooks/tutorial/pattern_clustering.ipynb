{
 "cells": [
  {
   "cell_type": "code",
   "execution_count": null,
   "id": "d4e423b6-7bd0-4b3f-b6ea-216fe356cfd1",
   "metadata": {},
   "outputs": [],
   "source": [
    "from pattern_clustering import pattern_clustering, pattern_clustering_to_html\n",
    "from pybgl.html         import html\n",
    "\n",
    "def demo_pc_clustering_boost(lines :list, **kwargs):\n",
    "    \"\"\"\n",
    "    Run the pattern clustering by processing input lines of text.\n",
    "    Args:\n",
    "        lines: A list of string (e.g., the lines of text stored in a log file).\n",
    "        **kwargs: See `pattern_clustering.pattern_clustering` parameters.\n",
    "    \"\"\"\n",
    "    map_row_cluster = pattern_clustering(lines, **kwargs)\n",
    "    html(pattern_clustering_to_html(lines, map_row_cluster))\n",
    "\n",
    "def demo_pc_clustering_boost_from_file(filename :str, max_line :int = None, **kwargs):\n",
    "    \"\"\"\n",
    "    Run the pattern clustering by processing input lines of text.\n",
    "    Args:\n",
    "        filename: The path to an input text file (e.g., a log file).\n",
    "        **kwargs: See `pattern_clustering.pattern_clustering` parameters.\n",
    "    \"\"\"\n",
    "    with open(filename) as f:\n",
    "        lines = [line.strip() for line in f.readlines()][:max_line]\n",
    "        demo_pc_clustering_boost(lines, **kwargs)\n",
    "        \n",
    "demo_pc_clustering_boost_from_file(filename = \"Xorg.0.log\")"
   ]
  }
 ],
 "metadata": {
  "kernelspec": {
   "display_name": "Python 3 (ipykernel)",
   "language": "python",
   "name": "python3"
  },
  "language_info": {
   "codemirror_mode": {
    "name": "ipython",
    "version": 3
   },
   "file_extension": ".py",
   "mimetype": "text/x-python",
   "name": "python",
   "nbconvert_exporter": "python",
   "pygments_lexer": "ipython3",
   "version": "3.10.5"
  }
 },
 "nbformat": 4,
 "nbformat_minor": 5
}
